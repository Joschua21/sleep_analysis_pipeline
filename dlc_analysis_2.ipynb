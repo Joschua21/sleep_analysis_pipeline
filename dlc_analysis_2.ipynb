{
 "cells": [
  {
   "cell_type": "code",
   "execution_count": 1,
   "id": "491b1104",
   "metadata": {},
   "outputs": [
    {
     "name": "stdout",
     "output_type": "stream",
     "text": [
      "Loading DLC 2.3.9...\n",
      "DLC loaded in light mode; you cannot use any GUI (labeling, relabeling and standalone GUI)\n"
     ]
    },
    {
     "name": "stderr",
     "output_type": "stream",
     "text": [
      "c:\\Users\\Experiment\\Miniconda3\\envs\\DEEPLABCUT_TF_2\\lib\\site-packages\\tqdm\\auto.py:21: TqdmWarning: IProgress not found. Please update jupyter and ipywidgets. See https://ipywidgets.readthedocs.io/en/stable/user_install.html\n",
      "  from .autonotebook import tqdm as notebook_tqdm\n"
     ]
    }
   ],
   "source": [
    "from pathlib import Path\n",
    "import deeplabcut\n",
    "%matplotlib inline\n",
    "import matplotlib.pyplot as plt\n",
    "import os\n"
   ]
  },
  {
   "cell_type": "code",
   "execution_count": 2,
   "id": "22e68a8c",
   "metadata": {},
   "outputs": [],
   "source": [
    "config_path = r\"C:\\Users\\Experiment\\Projects\\DLC_models\\model_maja\\config.yaml\"\n",
    "video_path = os.path.join(\"C:/Users/Experiment/Projects/video_conversions/full\", \"full.mp4\")"
   ]
  },
  {
   "cell_type": "code",
   "execution_count": 4,
   "id": "103c32fe",
   "metadata": {},
   "outputs": [
    {
     "name": "stdout",
     "output_type": "stream",
     "text": [
      "Using snapshot-150000 for model C:\\Users\\Experiment\\Projects\\DLC_models\\model_maja\\dlc-models\\iteration-4\\downsampled_trialJul11-trainset95shuffle1\n"
     ]
    },
    {
     "name": "stderr",
     "output_type": "stream",
     "text": [
      "c:\\Users\\Experiment\\Miniconda3\\envs\\DEEPLABCUT_TF_2\\lib\\site-packages\\tensorflow\\python\\keras\\engine\\base_layer_v1.py:1694: UserWarning: `layer.apply` is deprecated and will be removed in a future version. Please use `layer.__call__` method instead.\n",
      "  warnings.warn('`layer.apply` is deprecated and '\n"
     ]
    },
    {
     "name": "stdout",
     "output_type": "stream",
     "text": [
      "Starting to analyze %  C:/Users/Experiment/Projects/video_conversions/full\\full.mp4\n",
      "Loading  C:/Users/Experiment/Projects/video_conversions/full\\full.mp4\n",
      "Duration of video [s]:  2408.33 , recorded with  60.0 fps!\n",
      "Overall # of frames:  144500  found with (before cropping) frame dimensions:  640 512\n",
      "Starting to extract posture\n"
     ]
    },
    {
     "name": "stderr",
     "output_type": "stream",
     "text": [
      "100%|██████████| 144500/144500 [1:19:42<00:00, 30.22it/s]\n"
     ]
    },
    {
     "name": "stdout",
     "output_type": "stream",
     "text": [
      "Saving results in C:\\Users\\Experiment\\Projects\\video_conversions\\full...\n",
      "Saving csv poses!\n",
      "The videos are analyzed. Now your research can truly start! \n",
      " You can create labeled videos with 'create_labeled_video'\n",
      "If the tracking is not satisfactory for some videos, consider expanding the training set. You can use the function 'extract_outlier_frames' to extract a few representative outlier frames.\n"
     ]
    },
    {
     "data": {
      "text/plain": [
       "'DLC_resnet50_downsampled_trialJul11shuffle1_150000'"
      ]
     },
     "execution_count": 4,
     "metadata": {},
     "output_type": "execute_result"
    }
   ],
   "source": [
    "deeplabcut.analyze_videos(\n",
    "    config_path,\n",
    "    [video_path],\n",
    "    shuffle=1,\n",
    "    trainingsetindex=0,\n",
    "    gputouse=0, \n",
    "    save_as_csv=True,\n",
    "    robust_nframes=True\n",
    ")"
   ]
  },
  {
   "cell_type": "code",
   "execution_count": 4,
   "id": "6518ac59",
   "metadata": {},
   "outputs": [
    {
     "name": "stdout",
     "output_type": "stream",
     "text": [
      "Starting to process video: C:/Users/Experiment/Projects/video_conversions/full\\full.mp4\n",
      "Loading C:/Users/Experiment/Projects/video_conversions/full\\full.mp4 and data.\n",
      "Duration of video [s]: 2408.33, recorded with 60.0 fps!\n",
      "Overall # of frames: 144500 with cropped frame dimensions: 640 512\n",
      "Generating frames and creating video.\n"
     ]
    },
    {
     "name": "stderr",
     "output_type": "stream",
     "text": [
      "100%|██████████| 144500/144500 [10:56<00:00, 220.08it/s]\n"
     ]
    },
    {
     "data": {
      "text/plain": [
       "[True]"
      ]
     },
     "execution_count": 4,
     "metadata": {},
     "output_type": "execute_result"
    }
   ],
   "source": [
    "deeplabcut.create_labeled_video(config_path, [video_path], draw_skeleton=True)"
   ]
  },
  {
   "cell_type": "markdown",
   "id": "4bec763b",
   "metadata": {},
   "source": [
    "Check that Tensorflow is accessing the GPU:"
   ]
  },
  {
   "cell_type": "code",
   "execution_count": 1,
   "id": "0394edc1",
   "metadata": {},
   "outputs": [
    {
     "name": "stdout",
     "output_type": "stream",
     "text": [
      "TensorFlow version: 2.10.0\n",
      "Num GPUs Available: 1\n",
      "GPU Devices: [PhysicalDevice(name='/physical_device:GPU:0', device_type='GPU')]\n"
     ]
    }
   ],
   "source": [
    "import tensorflow as tf\n",
    "\n",
    "print(\"TensorFlow version:\", tf.__version__)\n",
    "print(\"Num GPUs Available:\", len(tf.config.list_physical_devices('GPU')))\n",
    "print(\"GPU Devices:\", tf.config.list_physical_devices('GPU'))"
   ]
  }
 ],
 "metadata": {
  "kernelspec": {
   "display_name": "DEEPLABCUT_TF_2",
   "language": "python",
   "name": "python3"
  },
  "language_info": {
   "codemirror_mode": {
    "name": "ipython",
    "version": 3
   },
   "file_extension": ".py",
   "mimetype": "text/x-python",
   "name": "python",
   "nbconvert_exporter": "python",
   "pygments_lexer": "ipython3",
   "version": "3.8.20"
  }
 },
 "nbformat": 4,
 "nbformat_minor": 5
}
